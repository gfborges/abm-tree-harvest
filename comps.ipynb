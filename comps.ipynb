{
 "cells": [
  {
   "cell_type": "code",
   "execution_count": 1,
   "metadata": {},
   "outputs": [],
   "source": [
    "import pandas as pd\n",
    "import numpy as np\n",
    "import matplotlib.pyplot as plt\n",
    "import seaborn as sns\n",
    "%matplotlib inline\n",
    "plt.style.use(\"seaborn\")"
   ]
  },
  {
   "cell_type": "code",
   "execution_count": 16,
   "metadata": {},
   "outputs": [
    {
     "data": {
      "text/html": [
       "<div>\n",
       "<style scoped>\n",
       "    .dataframe tbody tr th:only-of-type {\n",
       "        vertical-align: middle;\n",
       "    }\n",
       "\n",
       "    .dataframe tbody tr th {\n",
       "        vertical-align: top;\n",
       "    }\n",
       "\n",
       "    .dataframe thead th {\n",
       "        text-align: right;\n",
       "    }\n",
       "</style>\n",
       "<table border=\"1\" class=\"dataframe\">\n",
       "  <thead>\n",
       "    <tr style=\"text-align: right;\">\n",
       "      <th></th>\n",
       "      <th>class1</th>\n",
       "      <th>class2</th>\n",
       "      <th>class3</th>\n",
       "      <th>class4</th>\n",
       "      <th>class5</th>\n",
       "      <th>class6</th>\n",
       "      <th>class7</th>\n",
       "      <th>class8</th>\n",
       "      <th>class9</th>\n",
       "      <th>trees_cut</th>\n",
       "      <th>trees_reman</th>\n",
       "      <th>trees_seeds</th>\n",
       "    </tr>\n",
       "  </thead>\n",
       "  <tbody>\n",
       "    <tr>\n",
       "      <th>0</th>\n",
       "      <td>981.0</td>\n",
       "      <td>1508.0</td>\n",
       "      <td>215.0</td>\n",
       "      <td>1117.0</td>\n",
       "      <td>2017.0</td>\n",
       "      <td>1515.0</td>\n",
       "      <td>976.0</td>\n",
       "      <td>345.0</td>\n",
       "      <td>1139.0</td>\n",
       "      <td>3201.0</td>\n",
       "      <td>3194.0</td>\n",
       "      <td>714</td>\n",
       "    </tr>\n",
       "    <tr>\n",
       "      <th>1</th>\n",
       "      <td>115991.0</td>\n",
       "      <td>1344.0</td>\n",
       "      <td>708.0</td>\n",
       "      <td>714.0</td>\n",
       "      <td>1639.0</td>\n",
       "      <td>1723.0</td>\n",
       "      <td>1110.0</td>\n",
       "      <td>721.0</td>\n",
       "      <td>1383.0</td>\n",
       "      <td>4026.0</td>\n",
       "      <td>2450.0</td>\n",
       "      <td>814</td>\n",
       "    </tr>\n",
       "  </tbody>\n",
       "</table>\n",
       "</div>"
      ],
      "text/plain": [
       "     class1  class2  class3  class4  class5  class6  class7  class8  class9  \\\n",
       "0     981.0  1508.0   215.0  1117.0  2017.0  1515.0   976.0   345.0  1139.0   \n",
       "1  115991.0  1344.0   708.0   714.0  1639.0  1723.0  1110.0   721.0  1383.0   \n",
       "\n",
       "   trees_cut  trees_reman  trees_seeds  \n",
       "0     3201.0       3194.0          714  \n",
       "1     4026.0       2450.0          814  "
      ]
     },
     "metadata": {},
     "output_type": "display_data"
    },
    {
     "data": {
      "text/html": [
       "<div>\n",
       "<style scoped>\n",
       "    .dataframe tbody tr th:only-of-type {\n",
       "        vertical-align: middle;\n",
       "    }\n",
       "\n",
       "    .dataframe tbody tr th {\n",
       "        vertical-align: top;\n",
       "    }\n",
       "\n",
       "    .dataframe thead th {\n",
       "        text-align: right;\n",
       "    }\n",
       "</style>\n",
       "<table border=\"1\" class=\"dataframe\">\n",
       "  <thead>\n",
       "    <tr style=\"text-align: right;\">\n",
       "      <th></th>\n",
       "      <th>class1</th>\n",
       "      <th>class2</th>\n",
       "      <th>class3</th>\n",
       "      <th>class4</th>\n",
       "      <th>class5</th>\n",
       "      <th>class6</th>\n",
       "      <th>class7</th>\n",
       "      <th>class8</th>\n",
       "      <th>class9</th>\n",
       "      <th>trees_cut</th>\n",
       "      <th>trees_reman</th>\n",
       "      <th>trees_seeds</th>\n",
       "    </tr>\n",
       "  </thead>\n",
       "  <tbody>\n",
       "    <tr>\n",
       "      <th>0</th>\n",
       "      <td>981.0</td>\n",
       "      <td>1508.0</td>\n",
       "      <td>215.0</td>\n",
       "      <td>1117.0</td>\n",
       "      <td>2017.0</td>\n",
       "      <td>1515.0</td>\n",
       "      <td>976.0</td>\n",
       "      <td>345.0</td>\n",
       "      <td>1139.0</td>\n",
       "      <td>3201.0</td>\n",
       "      <td>3194.0</td>\n",
       "      <td>714</td>\n",
       "    </tr>\n",
       "    <tr>\n",
       "      <th>1</th>\n",
       "      <td>115991.0</td>\n",
       "      <td>1261.0</td>\n",
       "      <td>791.0</td>\n",
       "      <td>714.0</td>\n",
       "      <td>1639.0</td>\n",
       "      <td>1723.0</td>\n",
       "      <td>1108.0</td>\n",
       "      <td>707.0</td>\n",
       "      <td>1399.0</td>\n",
       "      <td>4026.0</td>\n",
       "      <td>2450.0</td>\n",
       "      <td>814</td>\n",
       "    </tr>\n",
       "  </tbody>\n",
       "</table>\n",
       "</div>"
      ],
      "text/plain": [
       "     class1  class2  class3  class4  class5  class6  class7  class8  class9  \\\n",
       "0     981.0  1508.0   215.0  1117.0  2017.0  1515.0   976.0   345.0  1139.0   \n",
       "1  115991.0  1261.0   791.0   714.0  1639.0  1723.0  1108.0   707.0  1399.0   \n",
       "\n",
       "   trees_cut  trees_reman  trees_seeds  \n",
       "0     3201.0       3194.0          714  \n",
       "1     4026.0       2450.0          814  "
      ]
     },
     "metadata": {},
     "output_type": "display_data"
    },
    {
     "data": {
      "text/html": [
       "<div>\n",
       "<style scoped>\n",
       "    .dataframe tbody tr th:only-of-type {\n",
       "        vertical-align: middle;\n",
       "    }\n",
       "\n",
       "    .dataframe tbody tr th {\n",
       "        vertical-align: top;\n",
       "    }\n",
       "\n",
       "    .dataframe thead th {\n",
       "        text-align: right;\n",
       "    }\n",
       "</style>\n",
       "<table border=\"1\" class=\"dataframe\">\n",
       "  <thead>\n",
       "    <tr style=\"text-align: right;\">\n",
       "      <th></th>\n",
       "      <th>class1</th>\n",
       "      <th>class2</th>\n",
       "      <th>class3</th>\n",
       "      <th>class4</th>\n",
       "      <th>class5</th>\n",
       "      <th>class6</th>\n",
       "      <th>class7</th>\n",
       "      <th>class8</th>\n",
       "      <th>class9</th>\n",
       "      <th>trees_cut</th>\n",
       "      <th>trees_reman</th>\n",
       "      <th>trees_seeds</th>\n",
       "    </tr>\n",
       "  </thead>\n",
       "  <tbody>\n",
       "    <tr>\n",
       "      <th>0</th>\n",
       "      <td>981.0</td>\n",
       "      <td>1508.0</td>\n",
       "      <td>215.0</td>\n",
       "      <td>1117.0</td>\n",
       "      <td>2017.0</td>\n",
       "      <td>1515.0</td>\n",
       "      <td>976.0</td>\n",
       "      <td>345.0</td>\n",
       "      <td>1139.0</td>\n",
       "      <td>3201.0</td>\n",
       "      <td>3194.0</td>\n",
       "      <td>714</td>\n",
       "    </tr>\n",
       "    <tr>\n",
       "      <th>1</th>\n",
       "      <td>115991.0</td>\n",
       "      <td>1344.0</td>\n",
       "      <td>708.0</td>\n",
       "      <td>714.0</td>\n",
       "      <td>1361.0</td>\n",
       "      <td>1831.0</td>\n",
       "      <td>1269.0</td>\n",
       "      <td>711.0</td>\n",
       "      <td>1404.0</td>\n",
       "      <td>4265.0</td>\n",
       "      <td>2178.0</td>\n",
       "      <td>847</td>\n",
       "    </tr>\n",
       "  </tbody>\n",
       "</table>\n",
       "</div>"
      ],
      "text/plain": [
       "     class1  class2  class3  class4  class5  class6  class7  class8  class9  \\\n",
       "0     981.0  1508.0   215.0  1117.0  2017.0  1515.0   976.0   345.0  1139.0   \n",
       "1  115991.0  1344.0   708.0   714.0  1361.0  1831.0  1269.0   711.0  1404.0   \n",
       "\n",
       "   trees_cut  trees_reman  trees_seeds  \n",
       "0     3201.0       3194.0          714  \n",
       "1     4265.0       2178.0          847  "
      ]
     },
     "metadata": {},
     "output_type": "display_data"
    },
    {
     "data": {
      "text/html": [
       "<div>\n",
       "<style scoped>\n",
       "    .dataframe tbody tr th:only-of-type {\n",
       "        vertical-align: middle;\n",
       "    }\n",
       "\n",
       "    .dataframe tbody tr th {\n",
       "        vertical-align: top;\n",
       "    }\n",
       "\n",
       "    .dataframe thead th {\n",
       "        text-align: right;\n",
       "    }\n",
       "</style>\n",
       "<table border=\"1\" class=\"dataframe\">\n",
       "  <thead>\n",
       "    <tr style=\"text-align: right;\">\n",
       "      <th></th>\n",
       "      <th>class1</th>\n",
       "      <th>class2</th>\n",
       "      <th>class3</th>\n",
       "      <th>class4</th>\n",
       "      <th>class5</th>\n",
       "      <th>class6</th>\n",
       "      <th>class7</th>\n",
       "      <th>class8</th>\n",
       "      <th>class9</th>\n",
       "      <th>trees_cut</th>\n",
       "      <th>trees_reman</th>\n",
       "      <th>trees_seeds</th>\n",
       "    </tr>\n",
       "  </thead>\n",
       "  <tbody>\n",
       "    <tr>\n",
       "      <th>0</th>\n",
       "      <td>981.0</td>\n",
       "      <td>1508.0</td>\n",
       "      <td>215.0</td>\n",
       "      <td>1117.0</td>\n",
       "      <td>2017.0</td>\n",
       "      <td>1515.0</td>\n",
       "      <td>976.0</td>\n",
       "      <td>345.0</td>\n",
       "      <td>1139.0</td>\n",
       "      <td>3201.0</td>\n",
       "      <td>3194.0</td>\n",
       "      <td>714</td>\n",
       "    </tr>\n",
       "    <tr>\n",
       "      <th>1</th>\n",
       "      <td>115946.0</td>\n",
       "      <td>1128.0</td>\n",
       "      <td>965.0</td>\n",
       "      <td>359.0</td>\n",
       "      <td>1514.0</td>\n",
       "      <td>1726.0</td>\n",
       "      <td>1250.0</td>\n",
       "      <td>981.0</td>\n",
       "      <td>1464.0</td>\n",
       "      <td>4439.0</td>\n",
       "      <td>1984.0</td>\n",
       "      <td>871</td>\n",
       "    </tr>\n",
       "  </tbody>\n",
       "</table>\n",
       "</div>"
      ],
      "text/plain": [
       "     class1  class2  class3  class4  class5  class6  class7  class8  class9  \\\n",
       "0     981.0  1508.0   215.0  1117.0  2017.0  1515.0   976.0   345.0  1139.0   \n",
       "1  115946.0  1128.0   965.0   359.0  1514.0  1726.0  1250.0   981.0  1464.0   \n",
       "\n",
       "   trees_cut  trees_reman  trees_seeds  \n",
       "0     3201.0       3194.0          714  \n",
       "1     4439.0       1984.0          871  "
      ]
     },
     "metadata": {},
     "output_type": "display_data"
    }
   ],
   "source": [
    "borges = pd.read_csv(\"borges/borgesex2.csv\")\n",
    "canneti = pd.read_csv(\"canneti/cannetiex2.csv\")\n",
    "oliveira = pd.read_csv(\"oliveira/oliveiraex2.csv\")\n",
    "braz = pd.read_csv(\"braz_2017/braz_2017ex2.csv\")\n",
    "display(borges.head(2))\n",
    "display(canneti.head(2))\n",
    "display(braz.head(2))\n",
    "display(oliveira.head(2))"
   ]
  },
  {
   "cell_type": "code",
   "execution_count": 17,
   "metadata": {},
   "outputs": [
    {
     "data": {
      "text/plain": [
       "array([383382., 288487., 169366., 109750.,  57887.,   3610.,      0.,\n",
       "            0.,      0.,      0., 167637.,   3610.])"
      ]
     },
     "execution_count": 17,
     "metadata": {},
     "output_type": "execute_result"
    }
   ],
   "source": [
    "borges.loc[9,:].values"
   ]
  },
  {
   "cell_type": "code",
   "execution_count": 18,
   "metadata": {},
   "outputs": [],
   "source": [
    "df = pd.DataFrame({\n",
    "    \"borges\":borges.loc[9,:].values,\n",
    "    \"oliveira\":oliveira.loc[9,:].values,\n",
    "    \"braz\":braz.loc[9,:].values,\n",
    "    \"canneti\":canneti.loc[9,:].values},\n",
    "    index=[i for i in range(1, 13)])\n",
    "df.to_csv(\"final.csv\")"
   ]
  },
  {
   "cell_type": "code",
   "execution_count": 19,
   "metadata": {},
   "outputs": [],
   "source": [
    "# for col in df:\n",
    "#     df[col] = df[col] / df[col].sum()\n",
    "# df"
   ]
  },
  {
   "cell_type": "code",
   "execution_count": 20,
   "metadata": {},
   "outputs": [
    {
     "data": {
      "image/png": "[encoded data removed]",
      "text/plain": [
       "<Figure size 576x396 with 4 Axes>"
      ]
     },
     "metadata": {},
     "output_type": "display_data"
    }
   ],
   "source": [
    "fig, ax = plt.subplots(2, 2, constrained_layout=True)\n",
    "\n",
    "ax[0][0].bar([str(i) for i in range(1,10)], height =df.loc[:9,\"borges\"])\n",
    "ax[0][0].set_title(\"Borges\")\n",
    "\n",
    "ax[0][1].bar([str(i) for i in range(1,10)], height =df.loc[:9,\"canneti\"])\n",
    "ax[0][1].set_title(\"Canneti\")\n",
    "\n",
    "ax[1][0].bar([str(i) for i in range(1,10)], height =df.loc[:9,\"oliveira\"], color = \"red\")\n",
    "ax[1][0].set_title(\"Oliveira\")\n",
    "\n",
    "ax[1][1].bar([str(i) for i in range(1,10)], height =df.loc[:9,\"braz\"], color = \"red\")\n",
    "ax[1][1].set_title(\"Braz(2017)\")\n",
    "\n",
    "# plt.savefig(\"crescimento_compex\", dpi= 300)\n",
    "plt.show()"
   ]
  },
  {
   "cell_type": "code",
   "execution_count": 21,
   "metadata": {},
   "outputs": [
    {
     "data": {
      "image/png": "[encoded data removed]",
      "text/plain": [
       "<Figure size 576x396 with 4 Axes>"
      ]
     },
     "metadata": {},
     "output_type": "display_data"
    }
   ],
   "source": [
    "fig, ax = plt.subplots(2, 2, constrained_layout=True)\n",
    "\n",
    "ax[0][0].bar([str(i) for i in range(2,10)], height =df.loc[2:9,\"borges\"])\n",
    "ax[0][0].set_title(\"Borges\")\n",
    "\n",
    "ax[0][1].bar([str(i) for i in range(2,10)], height =df.loc[2:9,\"canneti\"])\n",
    "ax[0][1].set_title(\"Canneti\")\n",
    "\n",
    "ax[1][0].bar([str(i) for i in range(2,10)], height =df.loc[2:9,\"oliveira\"], color = \"red\")\n",
    "ax[1][0].set_title(\"Oliveira\")\n",
    "\n",
    "ax[1][1].bar([str(i) for i in range(2,10)], height =df.loc[2:9,\"braz\"], color = \"red\")\n",
    "ax[1][1].set_title(\"Braz(2017)\")\n",
    "\n",
    "# plt.savefig(\"crescimento_comp_ajsex\", dpi = 300)\n",
    "plt.show()"
   ]
  },
  {
   "cell_type": "code",
   "execution_count": 22,
   "metadata": {},
   "outputs": [
    {
     "name": "stdout",
     "output_type": "stream",
     "text": [
      "1012482.0\n",
      "     class1    class2    class3    class4   class5   class6  class7  class8  \\\n",
      "0     981.0    1508.0     215.0    1117.0   2017.0   1515.0   976.0   345.0   \n",
      "1  115991.0    1344.0     708.0     714.0   1639.0   1723.0  1110.0   721.0   \n",
      "2  198254.0   33965.0     710.0     931.0   1276.0   1655.0  1231.0   972.0   \n",
      "3  256734.0   79952.0   11135.0     891.0   1321.0    835.0    73.0    42.0   \n",
      "4  298595.0  127607.0   32071.0    5313.0   1251.0   1016.0   536.0    73.0   \n",
      "5  328197.0  171953.0   59679.0   16927.0   2919.0   1002.0   698.0   534.0   \n",
      "6  349570.0  210395.0   89335.0   35474.0   9195.0    725.0     0.0     0.0   \n",
      "7  364732.0  242163.0  118826.0   58609.0  20690.0   4472.0   722.0     0.0   \n",
      "8  375562.0  268149.0  145546.0   83864.0  37639.0  12082.0  2170.0   722.0   \n",
      "9  383382.0  288487.0  169366.0  109750.0  57887.0   3610.0     0.0     0.0   \n",
      "\n",
      "   class9  trees_cut  trees_reman  trees_seeds  \n",
      "0  1139.0     3201.0       3194.0          714  \n",
      "1  1383.0     4026.0       2450.0          814  \n",
      "2  1859.0     4779.0       2247.0          898  \n",
      "3    43.0        0.0       2238.0          973  \n",
      "4    84.0      996.0       6564.0          713  \n",
      "5   157.0     1669.0      19846.0          722  \n",
      "6     0.0        0.0      44669.0          725  \n",
      "7     0.0     4472.0      79299.0          722  \n",
      "8     0.0    13143.0     121503.0         1831  \n",
      "9     0.0        0.0     167637.0         3610  \n",
      "879520.0\n"
     ]
    }
   ],
   "source": [
    "print(borges.loc[9,\"class1\":\"class9\"].sum())\n",
    "print(borges)\n",
    "print(oliveira.loc[9,\"class1\":\"class9\"].sum())"
   ]
  },
  {
   "cell_type": "code",
   "execution_count": null,
   "metadata": {},
   "outputs": [],
   "source": []
  },
  {
   "cell_type": "code",
   "execution_count": null,
   "metadata": {},
   "outputs": [],
   "source": []
  }
 ],
 "metadata": {
  "kernelspec": {
   "display_name": "Python 3",
   "language": "python",
   "name": "python3"
  },
  "language_info": {
   "codemirror_mode": {
    "name": "ipython",
    "version": 3
   },
   "file_extension": ".py",
   "mimetype": "text/x-python",
   "name": "python",
   "nbconvert_exporter": "python",
   "pygments_lexer": "ipython3",
   "version": "3.8.2"
  }
 },
 "nbformat": 4,
 "nbformat_minor": 4
}
