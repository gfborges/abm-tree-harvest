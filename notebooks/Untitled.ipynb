{
 "cells": [
  {
   "cell_type": "code",
   "execution_count": 35,
   "metadata": {},
   "outputs": [],
   "source": [
    "import pandas as pd\n",
    "import numpy as np\n",
    "import matplotlib.pyplot as plt\n",
    "import seaborn as sns\n",
    "%matplotlib inline\n",
    "plt.style.use(\"seaborn\")"
   ]
  },
  {
   "cell_type": "code",
   "execution_count": 2,
   "metadata": {},
   "outputs": [
    {
     "data": {
      "text/html": [
       "<div>\n",
       "<style scoped>\n",
       "    .dataframe tbody tr th:only-of-type {\n",
       "        vertical-align: middle;\n",
       "    }\n",
       "\n",
       "    .dataframe tbody tr th {\n",
       "        vertical-align: top;\n",
       "    }\n",
       "\n",
       "    .dataframe thead th {\n",
       "        text-align: right;\n",
       "    }\n",
       "</style>\n",
       "<table border=\"1\" class=\"dataframe\">\n",
       "  <thead>\n",
       "    <tr style=\"text-align: right;\">\n",
       "      <th></th>\n",
       "      <th>all_trees</th>\n",
       "      <th>class1</th>\n",
       "      <th>class2</th>\n",
       "      <th>class3</th>\n",
       "      <th>class4</th>\n",
       "      <th>class5</th>\n",
       "      <th>class6</th>\n",
       "      <th>class7</th>\n",
       "      <th>class8</th>\n",
       "      <th>class9</th>\n",
       "      <th>nao_comerc</th>\n",
       "      <th>proib_cort</th>\n",
       "      <th>trees_cut</th>\n",
       "      <th>trees_reman</th>\n",
       "      <th>trees_seeds</th>\n",
       "    </tr>\n",
       "  </thead>\n",
       "  <tbody>\n",
       "    <tr>\n",
       "      <th>0</th>\n",
       "      <td>9813</td>\n",
       "      <td>981.000000</td>\n",
       "      <td>1508.000000</td>\n",
       "      <td>215.0</td>\n",
       "      <td>1117.0</td>\n",
       "      <td>2017.0</td>\n",
       "      <td>1515.0</td>\n",
       "      <td>976.0</td>\n",
       "      <td>345.0</td>\n",
       "      <td>1139.0</td>\n",
       "      <td>156.000000</td>\n",
       "      <td>17.000000</td>\n",
       "      <td>3701.000000</td>\n",
       "      <td>3210.000000</td>\n",
       "      <td>693</td>\n",
       "    </tr>\n",
       "    <tr>\n",
       "      <th>1</th>\n",
       "      <td>8442</td>\n",
       "      <td>2507.717332</td>\n",
       "      <td>1481.131874</td>\n",
       "      <td>203.0</td>\n",
       "      <td>530.0</td>\n",
       "      <td>1028.0</td>\n",
       "      <td>1387.0</td>\n",
       "      <td>517.8</td>\n",
       "      <td>245.0</td>\n",
       "      <td>544.8</td>\n",
       "      <td>169.251274</td>\n",
       "      <td>19.537149</td>\n",
       "      <td>2329.251752</td>\n",
       "      <td>1683.003463</td>\n",
       "      <td>570</td>\n",
       "    </tr>\n",
       "    <tr>\n",
       "      <th>2</th>\n",
       "      <td>9396</td>\n",
       "      <td>3031.381291</td>\n",
       "      <td>1950.423528</td>\n",
       "      <td>351.0</td>\n",
       "      <td>364.0</td>\n",
       "      <td>550.0</td>\n",
       "      <td>1145.0</td>\n",
       "      <td>1005.8</td>\n",
       "      <td>368.0</td>\n",
       "      <td>633.8</td>\n",
       "      <td>186.988529</td>\n",
       "      <td>22.180970</td>\n",
       "      <td>2630.308131</td>\n",
       "      <td>1115.124621</td>\n",
       "      <td>591</td>\n",
       "    </tr>\n",
       "  </tbody>\n",
       "</table>\n",
       "</div>"
      ],
      "text/plain": [
       "   all_trees       class1       class2  class3  class4  class5  class6  \\\n",
       "0       9813   981.000000  1508.000000   215.0  1117.0  2017.0  1515.0   \n",
       "1       8442  2507.717332  1481.131874   203.0   530.0  1028.0  1387.0   \n",
       "2       9396  3031.381291  1950.423528   351.0   364.0   550.0  1145.0   \n",
       "\n",
       "   class7  class8  class9  nao_comerc  proib_cort    trees_cut  trees_reman  \\\n",
       "0   976.0   345.0  1139.0  156.000000   17.000000  3701.000000  3210.000000   \n",
       "1   517.8   245.0   544.8  169.251274   19.537149  2329.251752  1683.003463   \n",
       "2  1005.8   368.0   633.8  186.988529   22.180970  2630.308131  1115.124621   \n",
       "\n",
       "   trees_seeds  \n",
       "0          693  \n",
       "1          570  \n",
       "2          591  "
      ]
     },
     "metadata": {},
     "output_type": "display_data"
    },
    {
     "data": {
      "text/html": [
       "<div>\n",
       "<style scoped>\n",
       "    .dataframe tbody tr th:only-of-type {\n",
       "        vertical-align: middle;\n",
       "    }\n",
       "\n",
       "    .dataframe tbody tr th {\n",
       "        vertical-align: top;\n",
       "    }\n",
       "\n",
       "    .dataframe thead th {\n",
       "        text-align: right;\n",
       "    }\n",
       "</style>\n",
       "<table border=\"1\" class=\"dataframe\">\n",
       "  <thead>\n",
       "    <tr style=\"text-align: right;\">\n",
       "      <th></th>\n",
       "      <th>all_trees</th>\n",
       "      <th>class1</th>\n",
       "      <th>class2</th>\n",
       "      <th>class3</th>\n",
       "      <th>class4</th>\n",
       "      <th>class5</th>\n",
       "      <th>class6</th>\n",
       "      <th>class7</th>\n",
       "      <th>class8</th>\n",
       "      <th>class9</th>\n",
       "      <th>nao_comerc</th>\n",
       "      <th>proib_cort</th>\n",
       "      <th>trees_cut</th>\n",
       "      <th>trees_reman</th>\n",
       "      <th>trees_seeds</th>\n",
       "    </tr>\n",
       "  </thead>\n",
       "  <tbody>\n",
       "    <tr>\n",
       "      <th>0</th>\n",
       "      <td>9813</td>\n",
       "      <td>981.000000</td>\n",
       "      <td>1508.000000</td>\n",
       "      <td>215.0</td>\n",
       "      <td>1117.000000</td>\n",
       "      <td>2017.0</td>\n",
       "      <td>1515.0</td>\n",
       "      <td>976.0</td>\n",
       "      <td>345.0</td>\n",
       "      <td>1139.0</td>\n",
       "      <td>156.0</td>\n",
       "      <td>17.0</td>\n",
       "      <td>3701.0</td>\n",
       "      <td>3210.0</td>\n",
       "      <td>693</td>\n",
       "    </tr>\n",
       "    <tr>\n",
       "      <th>1</th>\n",
       "      <td>7584</td>\n",
       "      <td>1400.693234</td>\n",
       "      <td>1153.000000</td>\n",
       "      <td>411.0</td>\n",
       "      <td>622.306766</td>\n",
       "      <td>1437.0</td>\n",
       "      <td>1302.0</td>\n",
       "      <td>439.8</td>\n",
       "      <td>265.0</td>\n",
       "      <td>554.8</td>\n",
       "      <td>156.0</td>\n",
       "      <td>17.0</td>\n",
       "      <td>2264.0</td>\n",
       "      <td>2151.0</td>\n",
       "      <td>573</td>\n",
       "    </tr>\n",
       "    <tr>\n",
       "      <th>2</th>\n",
       "      <td>7584</td>\n",
       "      <td>1458.853681</td>\n",
       "      <td>1121.146319</td>\n",
       "      <td>478.0</td>\n",
       "      <td>465.000000</td>\n",
       "      <td>933.0</td>\n",
       "      <td>1334.0</td>\n",
       "      <td>809.8</td>\n",
       "      <td>343.0</td>\n",
       "      <td>642.8</td>\n",
       "      <td>156.0</td>\n",
       "      <td>17.0</td>\n",
       "      <td>2762.0</td>\n",
       "      <td>1534.0</td>\n",
       "      <td>611</td>\n",
       "    </tr>\n",
       "  </tbody>\n",
       "</table>\n",
       "</div>"
      ],
      "text/plain": [
       "   all_trees       class1       class2  class3       class4  class5  class6  \\\n",
       "0       9813   981.000000  1508.000000   215.0  1117.000000  2017.0  1515.0   \n",
       "1       7584  1400.693234  1153.000000   411.0   622.306766  1437.0  1302.0   \n",
       "2       7584  1458.853681  1121.146319   478.0   465.000000   933.0  1334.0   \n",
       "\n",
       "   class7  class8  class9  nao_comerc  proib_cort  trees_cut  trees_reman  \\\n",
       "0   976.0   345.0  1139.0       156.0        17.0     3701.0       3210.0   \n",
       "1   439.8   265.0   554.8       156.0        17.0     2264.0       2151.0   \n",
       "2   809.8   343.0   642.8       156.0        17.0     2762.0       1534.0   \n",
       "\n",
       "   trees_seeds  \n",
       "0          693  \n",
       "1          573  \n",
       "2          611  "
      ]
     },
     "metadata": {},
     "output_type": "display_data"
    }
   ],
   "source": [
    "negativo = pd.read_csv(\"../dados/output/classes-canneti-oliveira_t1.csv\")\n",
    "positivo = pd.read_csv(\"../dados/output/classes-braz_2017-gouveia_t2.csv\")\n",
    "display(positivo.head(3))\n",
    "display(negativo.head(3))"
   ]
  },
  {
   "cell_type": "code",
   "execution_count": 14,
   "metadata": {},
   "outputs": [
    {
     "data": {
      "text/plain": [
       "0     2209.000000\n",
       "1     3859.744784\n",
       "2     5059.567248\n",
       "3     6252.818709\n",
       "4     7193.059013\n",
       "5     7953.260697\n",
       "6     8710.363041\n",
       "7     9477.212187\n",
       "8    10195.085229\n",
       "9    10993.992470\n",
       "Name: sem_destino, dtype: float64"
      ]
     },
     "execution_count": 14,
     "metadata": {},
     "output_type": "execute_result"
    }
   ],
   "source": [
    "positivo[\"sem_destino\"] = positivo[\"all_trees\"] - (positivo[\"trees_cut\"] + positivo[\"trees_reman\"] + positivo[\"trees_seeds\"])\n",
    "positivo[\"sem_destino\"]"
   ]
  },
  {
   "cell_type": "code",
   "execution_count": 15,
   "metadata": {},
   "outputs": [
    {
     "data": {
      "text/plain": [
       "0    2209.0\n",
       "1    2596.0\n",
       "2    2677.0\n",
       "3    2734.0\n",
       "4    2795.0\n",
       "5    2709.0\n",
       "6    2611.0\n",
       "7    2567.0\n",
       "8    2464.0\n",
       "9    2393.0\n",
       "Name: sem_destino, dtype: float64"
      ]
     },
     "execution_count": 15,
     "metadata": {},
     "output_type": "execute_result"
    }
   ],
   "source": [
    "negativo[\"sem_destino\"] = negativo[\"all_trees\"] - (negativo[\"trees_cut\"] + negativo[\"trees_reman\"] + negativo[\"trees_seeds\"])\n",
    "negativo[\"sem_destino\"]"
   ]
  },
  {
   "cell_type": "code",
   "execution_count": 3,
   "metadata": {},
   "outputs": [
    {
     "name": "stdout",
     "output_type": "stream",
     "text": [
      "<class 'pandas.core.frame.DataFrame'>\n",
      "RangeIndex: 10 entries, 0 to 9\n",
      "Data columns (total 15 columns):\n",
      " #   Column       Non-Null Count  Dtype  \n",
      "---  ------       --------------  -----  \n",
      " 0   all_trees    10 non-null     int64  \n",
      " 1   class1       10 non-null     float64\n",
      " 2   class2       10 non-null     float64\n",
      " 3   class3       10 non-null     float64\n",
      " 4   class4       10 non-null     float64\n",
      " 5   class5       10 non-null     float64\n",
      " 6   class6       10 non-null     float64\n",
      " 7   class7       10 non-null     float64\n",
      " 8   class8       10 non-null     float64\n",
      " 9   class9       10 non-null     float64\n",
      " 10  nao_comerc   10 non-null     float64\n",
      " 11  proib_cort   10 non-null     float64\n",
      " 12  trees_cut    10 non-null     float64\n",
      " 13  trees_reman  10 non-null     float64\n",
      " 14  trees_seeds  10 non-null     int64  \n",
      "dtypes: float64(13), int64(2)\n",
      "memory usage: 1.3 KB\n"
     ]
    }
   ],
   "source": [
    "positivo.info()"
   ]
  },
  {
   "cell_type": "code",
   "execution_count": 20,
   "metadata": {},
   "outputs": [
    {
     "data": {
      "image/png": "[encoded data removed]",
      "text/plain": [
       "<Figure size 576x396 with 1 Axes>"
      ]
     },
     "metadata": {},
     "output_type": "display_data"
    }
   ],
   "source": [
    "plt.bar(positivo.columns[1:10], positivo.loc[9,\"class1\":\"class9\"])\n",
    "plt.title(\"Distribuição final de árvores\", fontdict={\"fontsize\":18})\n",
    "plt.tick_params(axis='both', which='major', labelsize=12)\n",
    "plt.savefig(\"positivo-class-final.png\")\n",
    "plt.show()"
   ]
  },
  {
   "cell_type": "code",
   "execution_count": 19,
   "metadata": {},
   "outputs": [
    {
     "data": {
      "image/png": "[encoded data removed]",
      "text/plain": [
       "<Figure size 576x396 with 1 Axes>"
      ]
     },
     "metadata": {},
     "output_type": "display_data"
    }
   ],
   "source": [
    "plt.bar(positivo.columns[10:], positivo.loc[9,\"nao_comerc\":])\n",
    "plt.title(\"Árvores por destino\", fontdict={\"fontsize\":18})\n",
    "plt.tick_params(axis='both', which='major', labelsize=12)\n",
    "plt.savefig(\"positivo-dest-final.png\")\n",
    "plt.show()"
   ]
  },
  {
   "cell_type": "code",
   "execution_count": 22,
   "metadata": {},
   "outputs": [
    {
     "data": {
      "image/png": "[encoded data removed]",
      "text/plain": [
       "<Figure size 576x396 with 1 Axes>"
      ]
     },
     "metadata": {},
     "output_type": "display_data"
    }
   ],
   "source": [
    "plt.bar(negativo.columns[1:10], negativo.loc[9,\"class1\":\"class9\"])\n",
    "plt.title(\"Distribuição final de árvores\", fontdict={\"fontsize\":18})\n",
    "plt.tick_params(axis='both', which='major', labelsize=12)\n",
    "plt.savefig(\"negavito-class-final.png\")\n",
    "plt.show()"
   ]
  },
  {
   "cell_type": "code",
   "execution_count": 21,
   "metadata": {},
   "outputs": [
    {
     "data": {
      "image/png": "[encoded data removed]",
      "text/plain": [
       "<Figure size 576x396 with 1 Axes>"
      ]
     },
     "metadata": {},
     "output_type": "display_data"
    }
   ],
   "source": [
    "plt.bar(negativo.columns[10:], negativo.loc[9,\"nao_comerc\":])\n",
    "plt.title(\"Árvores por destino\", fontdict={\"fontsize\":18})\n",
    "plt.tick_params(axis='both', which='major', labelsize=12)\n",
    "plt.savefig(\"negavito-dest-final.png\")\n",
    "plt.show()"
   ]
  },
  {
   "cell_type": "code",
   "execution_count": 8,
   "metadata": {},
   "outputs": [
    {
     "data": {
      "image/png": "[encoded data removed]",
      "text/plain": [
       "<Figure size 576x396 with 9 Axes>"
      ]
     },
     "metadata": {},
     "output_type": "display_data"
    }
   ],
   "source": [
    "fig, ax = plt.subplots(3, 3)\n",
    "fig.tight_layout(pad=1.0)\n",
    "fig.suptitle(\"Distribuição das classes diamétricas\", x = 0.5, y=1.05)\n",
    "for row in range(1, 10):\n",
    "    ax[(row-1)//3][(row-1)%3].bar(positivo.columns[1:10], positivo.loc[row,\"class1\":\"class9\"], color = [\"blue\"] *5 + [\"red\"] *4)\n",
    "    ax[(row-1)//3][(row-1)%3].title.set_text(f't={row}')\n",
    "    ax[(row-1)//3][(row-1)%3].get_xaxis().set_visible(False)\n",
    "plt.savefig(\"positivo-dist-all.png\")\n",
    "plt.show()"
   ]
  },
  {
   "cell_type": "code",
   "execution_count": 9,
   "metadata": {},
   "outputs": [
    {
     "data": {
      "image/png": "[encoded data removed]",
      "text/plain": [
       "<Figure size 576x396 with 9 Axes>"
      ]
     },
     "metadata": {},
     "output_type": "display_data"
    }
   ],
   "source": [
    "fig, ax = plt.subplots(3, 3)\n",
    "fig.tight_layout(pad=1.0)\n",
    "fig.suptitle(\"Distribuição das classes diamétricas\", x = 0.5, y=1.05)\n",
    "for row in range(1, 10):\n",
    "    ax[(row-1)//3][(row-1)%3].bar(negativo.columns[1:10], negativo.loc[row,\"class1\":\"class9\"], color = [\"blue\"] *5 + [\"red\"] *4)\n",
    "    ax[(row-1)//3][(row-1)%3].title.set_text(f't={row}')\n",
    "    ax[(row-1)//3][(row-1)%3].get_xaxis().set_visible(False)\n",
    "plt.savefig(\"negativo-dist-all.png\")\n",
    "plt.show()"
   ]
  },
  {
   "cell_type": "code",
   "execution_count": 26,
   "metadata": {},
   "outputs": [],
   "source": [
    "pos_cuts = pd.read_csv(\"../dados/output/cuts-braz_2017-gouveia_t2.csv\")\n",
    "neg_cuts = pd.read_csv(\"../dados/output/cuts-canneti-oliveira_t1.csv\")"
   ]
  },
  {
   "cell_type": "code",
   "execution_count": 27,
   "metadata": {},
   "outputs": [
    {
     "data": {
      "text/html": [
       "<div>\n",
       "<style scoped>\n",
       "    .dataframe tbody tr th:only-of-type {\n",
       "        vertical-align: middle;\n",
       "    }\n",
       "\n",
       "    .dataframe tbody tr th {\n",
       "        vertical-align: top;\n",
       "    }\n",
       "\n",
       "    .dataframe thead th {\n",
       "        text-align: right;\n",
       "    }\n",
       "</style>\n",
       "<table border=\"1\" class=\"dataframe\">\n",
       "  <thead>\n",
       "    <tr style=\"text-align: right;\">\n",
       "      <th></th>\n",
       "      <th>after</th>\n",
       "      <th>before</th>\n",
       "      <th>cut</th>\n",
       "    </tr>\n",
       "  </thead>\n",
       "  <tbody>\n",
       "    <tr>\n",
       "      <th>0</th>\n",
       "      <td>7592.400000</td>\n",
       "      <td>9813</td>\n",
       "      <td>2220.600000</td>\n",
       "    </tr>\n",
       "    <tr>\n",
       "      <th>1</th>\n",
       "      <td>8850.725915</td>\n",
       "      <td>10458</td>\n",
       "      <td>1607.274085</td>\n",
       "    </tr>\n",
       "    <tr>\n",
       "      <th>2</th>\n",
       "      <td>11257.780623</td>\n",
       "      <td>12203</td>\n",
       "      <td>945.219377</td>\n",
       "    </tr>\n",
       "    <tr>\n",
       "      <th>3</th>\n",
       "      <td>15524.000000</td>\n",
       "      <td>nil</td>\n",
       "      <td>0.000000</td>\n",
       "    </tr>\n",
       "  </tbody>\n",
       "</table>\n",
       "</div>"
      ],
      "text/plain": [
       "          after before          cut\n",
       "0   7592.400000   9813  2220.600000\n",
       "1   8850.725915  10458  1607.274085\n",
       "2  11257.780623  12203   945.219377\n",
       "3  15524.000000    nil     0.000000"
      ]
     },
     "execution_count": 27,
     "metadata": {},
     "output_type": "execute_result"
    }
   ],
   "source": [
    "pos_cuts.head()"
   ]
  },
  {
   "cell_type": "code",
   "execution_count": 28,
   "metadata": {},
   "outputs": [
    {
     "data": {
      "text/html": [
       "<div>\n",
       "<style scoped>\n",
       "    .dataframe tbody tr th:only-of-type {\n",
       "        vertical-align: middle;\n",
       "    }\n",
       "\n",
       "    .dataframe tbody tr th {\n",
       "        vertical-align: top;\n",
       "    }\n",
       "\n",
       "    .dataframe thead th {\n",
       "        text-align: right;\n",
       "    }\n",
       "</style>\n",
       "<table border=\"1\" class=\"dataframe\">\n",
       "  <thead>\n",
       "    <tr style=\"text-align: right;\">\n",
       "      <th></th>\n",
       "      <th>after</th>\n",
       "      <th>before</th>\n",
       "      <th>cut</th>\n",
       "    </tr>\n",
       "  </thead>\n",
       "  <tbody>\n",
       "    <tr>\n",
       "      <th>0</th>\n",
       "      <td>7592.4</td>\n",
       "      <td>9813</td>\n",
       "      <td>2220.6</td>\n",
       "    </tr>\n",
       "    <tr>\n",
       "      <th>1</th>\n",
       "      <td>5805.6</td>\n",
       "      <td>7584</td>\n",
       "      <td>1778.4</td>\n",
       "    </tr>\n",
       "    <tr>\n",
       "      <th>2</th>\n",
       "      <td>4900.6</td>\n",
       "      <td>5803</td>\n",
       "      <td>902.4</td>\n",
       "    </tr>\n",
       "    <tr>\n",
       "      <th>3</th>\n",
       "      <td>4898.0</td>\n",
       "      <td>nil</td>\n",
       "      <td>0.0</td>\n",
       "    </tr>\n",
       "  </tbody>\n",
       "</table>\n",
       "</div>"
      ],
      "text/plain": [
       "    after before     cut\n",
       "0  7592.4   9813  2220.6\n",
       "1  5805.6   7584  1778.4\n",
       "2  4900.6   5803   902.4\n",
       "3  4898.0    nil     0.0"
      ]
     },
     "execution_count": 28,
     "metadata": {},
     "output_type": "execute_result"
    }
   ],
   "source": [
    "neg_cuts.head()"
   ]
  },
  {
   "cell_type": "code",
   "execution_count": 31,
   "metadata": {},
   "outputs": [],
   "source": [
    "neg_cuts.loc[3, \"before\"] = 4898.0\n",
    "pos_cuts.loc[3, \"before\"] = 15524.0"
   ]
  },
  {
   "cell_type": "code",
   "execution_count": 46,
   "metadata": {},
   "outputs": [
    {
     "data": {
      "image/png": "[encoded data removed]",
      "text/plain": [
       "<Figure size 576x396 with 1 Axes>"
      ]
     },
     "metadata": {},
     "output_type": "display_data"
    }
   ],
   "source": [
    "sns.set()\n",
    "sns.barplot(y=\"cut\", x=neg_cuts.index, data=neg_cuts)\n",
    "plt.show()"
   ]
  },
  {
   "cell_type": "code",
   "execution_count": null,
   "metadata": {},
   "outputs": [],
   "source": [
    "fig, ax = plt.subplots(1, 2)\n",
    "plt.bar(negativo.columns[1:10], negativo.loc[9,\"class1\":\"class9\"])\n",
    "plt.suptitle(\"Distribuição final de árvores\", fontdict={\"fontsize\":18})\n",
    "plt.tick_params(axis='both', which='major', labelsize=12)\n",
    "plt.savefig(\"negavito-class-final.png\")\n",
    "plt.show()"
   ]
  }
 ],
 "metadata": {
  "kernelspec": {
   "display_name": "Python 3",
   "language": "python",
   "name": "python3"
  },
  "language_info": {
   "codemirror_mode": {
    "name": "ipython",
    "version": 3
   },
   "file_extension": ".py",
   "mimetype": "text/x-python",
   "name": "python",
   "nbconvert_exporter": "python",
   "pygments_lexer": "ipython3",
   "version": "3.8.2"
  }
 },
 "nbformat": 4,
 "nbformat_minor": 4
}
